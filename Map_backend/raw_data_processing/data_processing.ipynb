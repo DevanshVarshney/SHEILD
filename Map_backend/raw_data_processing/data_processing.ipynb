{
 "cells": [
  {
   "cell_type": "code",
   "execution_count": 1,
   "id": "9185ee9f",
   "metadata": {},
   "outputs": [],
   "source": [
    "import pandas as pd\n",
    "import json"
   ]
  },
  {
   "cell_type": "code",
   "execution_count": 2,
   "id": "b3d4ccd3",
   "metadata": {},
   "outputs": [],
   "source": [
    "with open ('safecity_crime_data.json','r') as file:\n",
    "    data=json.load(file)"
   ]
  },
  {
   "cell_type": "code",
   "execution_count": 3,
   "metadata": {},
   "outputs": [],
   "source": [
    "del data['status']\n",
    "del data['message']\n",
    "del data['query']\n",
    "del data['count']"
   ]
  },
  {
   "cell_type": "code",
   "execution_count": 4,
   "id": "4ff99d48",
   "metadata": {},
   "outputs": [],
   "source": [
    "data=data['data']\n"
   ]
  },
  {
   "cell_type": "code",
   "execution_count": 5,
   "id": "54a089c1",
   "metadata": {},
   "outputs": [],
   "source": [
    "coordinates = pd.DataFrame(data)"
   ]
  },
  {
   "cell_type": "code",
   "execution_count": 6,
   "id": "d4353d1d",
   "metadata": {},
   "outputs": [
    {
     "name": "stdout",
     "output_type": "stream",
     "text": [
      "<class 'pandas.core.frame.DataFrame'>\n",
      "RangeIndex: 13668 entries, 0 to 13667\n",
      "Data columns (total 3 columns):\n",
      " #   Column     Non-Null Count  Dtype \n",
      "---  ------     --------------  ----- \n",
      " 0   id         13668 non-null  object\n",
      " 1   latitude   13668 non-null  object\n",
      " 2   longitude  13668 non-null  object\n",
      "dtypes: object(3)\n",
      "memory usage: 320.5+ KB\n"
     ]
    }
   ],
   "source": [
    "coordinates.info()"
   ]
  },
  {
   "cell_type": "code",
   "execution_count": 7,
   "id": "45570e2f",
   "metadata": {},
   "outputs": [],
   "source": [
    "with open('safecity_incident_details.json','r') as file:\n",
    "    incident_details=json.load(file)\n",
    "    "
   ]
  },
  {
   "cell_type": "code",
   "execution_count": 8,
   "id": "c0cffc3e",
   "metadata": {},
   "outputs": [],
   "source": [
    "for incident in incident_details:\n",
    "    del incident['status']\n",
    "    del incident['message']"
   ]
  },
  {
   "cell_type": "code",
   "execution_count": 9,
   "id": "0fb6c72e",
   "metadata": {},
   "outputs": [],
   "source": [
    "details=[]\n",
    "for incident in incident_details:\n",
    "    if 'data' in incident:\n",
    "        details.append(incident['data'])"
   ]
  },
  {
   "cell_type": "code",
   "execution_count": 10,
   "id": "1926e7dd",
   "metadata": {},
   "outputs": [],
   "source": [
    "for incident in details:\n",
    "    del incident['answers']\n",
    "    del incident['posted_by']\n",
    "    del incident['detail_id']\n",
    "    del incident['answer_tag']\n",
    "    del incident['cat_ids']\n",
    "    del incident['admin_id']\n",
    "    del incident['status']\n",
    "    del incident['building']"
   ]
  },
  {
   "cell_type": "code",
   "execution_count": 11,
   "id": "5366d43e",
   "metadata": {},
   "outputs": [],
   "source": [
    "incident_details=pd.DataFrame(details)"
   ]
  },
  {
   "cell_type": "code",
   "execution_count": 12,
   "id": "d57e0e99",
   "metadata": {},
   "outputs": [],
   "source": [
    "categories=incident_details['categories'].unique()"
   ]
  },
  {
   "cell_type": "code",
   "execution_count": 13,
   "id": "f950e13b",
   "metadata": {},
   "outputs": [],
   "source": [
    "\n",
    "crime_severity = {\n",
    "    # Minor harassment (1-3)\n",
    "    'Ogling/Facial Expressions/Staring': 2,\n",
    "    \n",
    "    # Moderate crimes (4-6)\n",
    "    'Taking photos without permission': 4,\n",
    "    'Showing Pornography without consent': 5,\n",
    "    'Online Harassment': 4,\n",
    "    'Chain Snatching/Robbery': 5,\n",
    "    'Stalking': 6,\n",
    "    \n",
    "    # Serious crimes (7-8)\n",
    "    'Commenting/Sexual Invites': 7,  \n",
    "    'Touching /Groping': 7,\n",
    "    'Indecent Exposure/Masturbation in public': 7,\n",
    "    'Physical assault': 8,\n",
    "    \n",
    "    # Severe crimes (9-10)\n",
    "    'Rape/Sexual Assault': 10,\n",
    "    'Human Trafficking': 10,\n",
    "    'Domestic Violence': 9,\n",
    "    \n",
    "    # Catch-all\n",
    "    'Others': 3  # Default moderate rating for unspecified incidents\n",
    "}\n",
    "\n",
    "def calculate_severity(category_string):\n",
    "    \"\"\"\n",
    "    Calculate severity rating for a category string containing multiple crimes\n",
    "    separated by ' | '. Returns the highest severity rating found.\n",
    "    \"\"\"\n",
    "    if not category_string or category_string.strip() == '':\n",
    "        return 1  # Empty category gets lowest rating\n",
    "    \n",
    "    # Split by ' | ' to get individual crimes\n",
    "    crimes = [crime.strip() for crime in category_string.split(' | ')]\n",
    "    \n",
    "    # Find the maximum severity rating\n",
    "    max_severity = 1\n",
    "    for crime in crimes:\n",
    "        if crime in crime_severity:\n",
    "            max_severity = max(max_severity, crime_severity[crime])\n",
    "    \n",
    "    return max_severity\n",
    "\n",
    "# # Apply severity calculation to your categories\n",
    "# category_severities = []\n",
    "# for category in categories:\n",
    "#     severity = calculate_severity(category)\n",
    "#     category_severities.append({\n",
    "#         'category': category,\n",
    "#         'severity': severity\n",
    "#     })\n",
    "\n",
    "# # Print summary of updated ratings\n",
    "# print(\"Updated Crime Severity Distribution:\")\n",
    "# for item in category_severities[:10]:  # Show first 10 examples\n",
    "#     print(f\"'{item['category']}' -> Severity: {item['severity']}\")\n",
    "\n",
    "\n",
    "def get_severity_rating(category_string):\n",
    "    \"\"\"Simple function to get severity rating for a category string\"\"\"\n",
    "    return calculate_severity(category_string)"
   ]
  },
  {
   "cell_type": "code",
   "execution_count": 14,
   "id": "5d987dc6",
   "metadata": {},
   "outputs": [],
   "source": [
    "incident_details['severity'] = incident_details['categories'].apply(get_severity_rating)"
   ]
  },
  {
   "cell_type": "code",
   "execution_count": 15,
   "id": "81c1a032",
   "metadata": {},
   "outputs": [],
   "source": [
    "incident_details.drop(['lang_id','landmark','is_date_estimate','is_time_estimate','additional_detail'], axis=1, inplace=True)"
   ]
  },
  {
   "cell_type": "code",
   "execution_count": 16,
   "id": "695cdf48",
   "metadata": {},
   "outputs": [
    {
     "data": {
      "text/html": [
       "<div>\n",
       "<style scoped>\n",
       "    .dataframe tbody tr th:only-of-type {\n",
       "        vertical-align: middle;\n",
       "    }\n",
       "\n",
       "    .dataframe tbody tr th {\n",
       "        vertical-align: top;\n",
       "    }\n",
       "\n",
       "    .dataframe thead th {\n",
       "        text-align: right;\n",
       "    }\n",
       "</style>\n",
       "<table border=\"1\" class=\"dataframe\">\n",
       "  <thead>\n",
       "    <tr style=\"text-align: right;\">\n",
       "      <th></th>\n",
       "      <th>id</th>\n",
       "      <th>area</th>\n",
       "      <th>city</th>\n",
       "      <th>state</th>\n",
       "      <th>country</th>\n",
       "      <th>latitude</th>\n",
       "      <th>longitude</th>\n",
       "      <th>created_on</th>\n",
       "      <th>description</th>\n",
       "      <th>age</th>\n",
       "      <th>gender_id</th>\n",
       "      <th>gender</th>\n",
       "      <th>incident_date</th>\n",
       "      <th>time_from</th>\n",
       "      <th>time_to</th>\n",
       "      <th>categories</th>\n",
       "      <th>severity</th>\n",
       "    </tr>\n",
       "  </thead>\n",
       "  <tbody>\n",
       "    <tr>\n",
       "      <th>0</th>\n",
       "      <td>11837</td>\n",
       "      <td>Nehru Place</td>\n",
       "      <td>New Delhi</td>\n",
       "      <td>Delhi</td>\n",
       "      <td>India</td>\n",
       "      <td>28.551478</td>\n",
       "      <td>77.251543</td>\n",
       "      <td>2020-12-01 19:45:28</td>\n",
       "      <td>Sexual Invite : A man walked with me for 5 min...</td>\n",
       "      <td>0</td>\n",
       "      <td>0</td>\n",
       "      <td>None</td>\n",
       "      <td>2012-12-25</td>\n",
       "      <td>01:50:00</td>\n",
       "      <td>00:00:00</td>\n",
       "      <td>Commenting/Sexual Invites</td>\n",
       "      <td>7</td>\n",
       "    </tr>\n",
       "    <tr>\n",
       "      <th>1</th>\n",
       "      <td>11842</td>\n",
       "      <td>Block G</td>\n",
       "      <td>New Delhi</td>\n",
       "      <td>Delhi</td>\n",
       "      <td>India</td>\n",
       "      <td>28.568814</td>\n",
       "      <td>77.220565</td>\n",
       "      <td>2020-12-01 19:45:28</td>\n",
       "      <td>Sexual Invite : Late evening (around 7.30 pm) ...</td>\n",
       "      <td>0</td>\n",
       "      <td>0</td>\n",
       "      <td>None</td>\n",
       "      <td>2012-12-26</td>\n",
       "      <td>01:56:00</td>\n",
       "      <td>00:00:00</td>\n",
       "      <td>Commenting/Sexual Invites</td>\n",
       "      <td>7</td>\n",
       "    </tr>\n",
       "    <tr>\n",
       "      <th>2</th>\n",
       "      <td>11844</td>\n",
       "      <td>Ajmeri Gate</td>\n",
       "      <td>New Delhi</td>\n",
       "      <td>Delhi</td>\n",
       "      <td>India</td>\n",
       "      <td>28.641970</td>\n",
       "      <td>77.220600</td>\n",
       "      <td>2020-12-01 19:45:28</td>\n",
       "      <td>Pitampura, Bus stand : Comments were passed wh...</td>\n",
       "      <td>0</td>\n",
       "      <td>0</td>\n",
       "      <td>None</td>\n",
       "      <td>2012-12-26</td>\n",
       "      <td>17:57:00</td>\n",
       "      <td>00:00:00</td>\n",
       "      <td>Commenting/Sexual Invites</td>\n",
       "      <td>7</td>\n",
       "    </tr>\n",
       "    <tr>\n",
       "      <th>3</th>\n",
       "      <td>11848</td>\n",
       "      <td>Kalkaji Extension</td>\n",
       "      <td>New Delhi</td>\n",
       "      <td>Delhi</td>\n",
       "      <td>India</td>\n",
       "      <td>28.542735</td>\n",
       "      <td>77.259194</td>\n",
       "      <td>2020-12-01 19:45:28</td>\n",
       "      <td>Retard commenting : I just stepped out of offi...</td>\n",
       "      <td>0</td>\n",
       "      <td>0</td>\n",
       "      <td>None</td>\n",
       "      <td>2012-12-27</td>\n",
       "      <td>01:49:00</td>\n",
       "      <td>00:00:00</td>\n",
       "      <td>Commenting/Sexual Invites</td>\n",
       "      <td>7</td>\n",
       "    </tr>\n",
       "    <tr>\n",
       "      <th>4</th>\n",
       "      <td>11851</td>\n",
       "      <td>Ajmeri Gate</td>\n",
       "      <td>New Delhi</td>\n",
       "      <td>Delhi</td>\n",
       "      <td>India</td>\n",
       "      <td>28.641970</td>\n",
       "      <td>77.220600</td>\n",
       "      <td>2020-12-01 19:45:28</td>\n",
       "      <td>New Delhi Railway Station Indecent comments : ...</td>\n",
       "      <td>0</td>\n",
       "      <td>0</td>\n",
       "      <td>None</td>\n",
       "      <td>2009-06-15</td>\n",
       "      <td>11:07:00</td>\n",
       "      <td>00:00:00</td>\n",
       "      <td>Commenting/Sexual Invites</td>\n",
       "      <td>7</td>\n",
       "    </tr>\n",
       "  </tbody>\n",
       "</table>\n",
       "</div>"
      ],
      "text/plain": [
       "      id               area       city  state country   latitude  longitude  \\\n",
       "0  11837        Nehru Place  New Delhi  Delhi   India  28.551478  77.251543   \n",
       "1  11842            Block G  New Delhi  Delhi   India  28.568814  77.220565   \n",
       "2  11844        Ajmeri Gate  New Delhi  Delhi   India  28.641970  77.220600   \n",
       "3  11848  Kalkaji Extension  New Delhi  Delhi   India  28.542735  77.259194   \n",
       "4  11851        Ajmeri Gate  New Delhi  Delhi   India  28.641970  77.220600   \n",
       "\n",
       "            created_on                                        description age  \\\n",
       "0  2020-12-01 19:45:28  Sexual Invite : A man walked with me for 5 min...   0   \n",
       "1  2020-12-01 19:45:28  Sexual Invite : Late evening (around 7.30 pm) ...   0   \n",
       "2  2020-12-01 19:45:28  Pitampura, Bus stand : Comments were passed wh...   0   \n",
       "3  2020-12-01 19:45:28  Retard commenting : I just stepped out of offi...   0   \n",
       "4  2020-12-01 19:45:28  New Delhi Railway Station Indecent comments : ...   0   \n",
       "\n",
       "  gender_id gender incident_date time_from   time_to  \\\n",
       "0         0   None    2012-12-25  01:50:00  00:00:00   \n",
       "1         0   None    2012-12-26  01:56:00  00:00:00   \n",
       "2         0   None    2012-12-26  17:57:00  00:00:00   \n",
       "3         0   None    2012-12-27  01:49:00  00:00:00   \n",
       "4         0   None    2009-06-15  11:07:00  00:00:00   \n",
       "\n",
       "                  categories  severity  \n",
       "0  Commenting/Sexual Invites         7  \n",
       "1  Commenting/Sexual Invites         7  \n",
       "2  Commenting/Sexual Invites         7  \n",
       "3  Commenting/Sexual Invites         7  \n",
       "4  Commenting/Sexual Invites         7  "
      ]
     },
     "execution_count": 16,
     "metadata": {},
     "output_type": "execute_result"
    }
   ],
   "source": [
    "incident_details.head()"
   ]
  },
  {
   "cell_type": "code",
   "execution_count": 17,
   "id": "43dd80de",
   "metadata": {},
   "outputs": [
    {
     "data": {
      "text/plain": [
       "Index(['id', 'area', 'city', 'state', 'country', 'latitude', 'longitude',\n",
       "       'created_on', 'description', 'age', 'gender_id', 'gender',\n",
       "       'incident_date', 'time_from', 'time_to', 'categories', 'severity'],\n",
       "      dtype='object')"
      ]
     },
     "execution_count": 17,
     "metadata": {},
     "output_type": "execute_result"
    }
   ],
   "source": [
    "incident_details.columns"
   ]
  },
  {
   "cell_type": "code",
   "execution_count": 18,
   "id": "571ccb8a",
   "metadata": {},
   "outputs": [],
   "source": [
    "# incident_details.drop(['id'], axis=1, inplace=True)"
   ]
  },
  {
   "cell_type": "code",
   "execution_count": 19,
   "id": "6cc5540d",
   "metadata": {},
   "outputs": [],
   "source": [
    "# incident_details.to_csv(\"processed_incident_details.csv\", index=False)"
   ]
  },
  {
   "cell_type": "code",
   "execution_count": null,
   "id": "b09bd56b",
   "metadata": {},
   "outputs": [],
   "source": []
  }
 ],
 "metadata": {
  "kernelspec": {
   "display_name": "Python 3",
   "language": "python",
   "name": "python3"
  },
  "language_info": {
   "codemirror_mode": {
    "name": "ipython",
    "version": 3
   },
   "file_extension": ".py",
   "mimetype": "text/x-python",
   "name": "python",
   "nbconvert_exporter": "python",
   "pygments_lexer": "ipython3",
   "version": "3.12.8"
  }
 },
 "nbformat": 4,
 "nbformat_minor": 5
}
