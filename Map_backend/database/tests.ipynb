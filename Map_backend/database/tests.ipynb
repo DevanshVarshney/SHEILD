{
 "cells": [
  {
   "cell_type": "code",
   "execution_count": 1,
   "id": "c85bf328",
   "metadata": {},
   "outputs": [],
   "source": [
    "import pandas as pd"
   ]
  },
  {
   "cell_type": "code",
   "execution_count": 2,
   "id": "09b27552",
   "metadata": {},
   "outputs": [],
   "source": [
    "data=pd.read_csv('processed_incident_details.csv')"
   ]
  },
  {
   "cell_type": "code",
   "execution_count": 3,
   "metadata": {},
   "outputs": [
    {
     "data": {
      "text/plain": [
       "(13668, 15)"
      ]
     },
     "execution_count": 3,
     "metadata": {},
     "output_type": "execute_result"
    }
   ],
   "source": [
    "data.shape"
   ]
  },
  {
   "cell_type": "code",
   "execution_count": 4,
   "metadata": {},
   "outputs": [
    {
     "data": {
      "text/plain": [
       "Index(['area', 'city', 'state', 'country', 'latitude', 'longitude',\n",
       "       'created_on', 'description', 'age', 'gender', 'incident_date',\n",
       "       'time_from', 'time_to', 'categories', 'severity'],\n",
       "      dtype='object')"
      ]
     },
     "execution_count": 4,
     "metadata": {},
     "output_type": "execute_result"
    }
   ],
   "source": [
    "data.columns"
   ]
  },
  {
   "cell_type": "code",
   "execution_count": 8,
   "id": "635ff88c",
   "metadata": {},
   "outputs": [
    {
     "data": {
      "text/plain": [
       "gender\n",
       "Female               7949\n",
       "Male                 1232\n",
       "Gender non-binary      89\n",
       "Name: count, dtype: int64"
      ]
     },
     "execution_count": 8,
     "metadata": {},
     "output_type": "execute_result"
    }
   ],
   "source": [
    "data['gender'].value_counts()"
   ]
  },
  {
   "cell_type": "code",
   "execution_count": 9,
   "id": "4fddf7c3",
   "metadata": {},
   "outputs": [],
   "source": [
    "data['gender'].fillna('Female', inplace=True)"
   ]
  },
  {
   "cell_type": "code",
   "execution_count": null,
   "id": "7cd0f85d",
   "metadata": {},
   "outputs": [],
   "source": []
  },
  {
   "cell_type": "code",
   "execution_count": 10,
   "id": "baf6b43e",
   "metadata": {},
   "outputs": [
    {
     "data": {
      "text/html": [
       "<div>\n",
       "<style scoped>\n",
       "    .dataframe tbody tr th:only-of-type {\n",
       "        vertical-align: middle;\n",
       "    }\n",
       "\n",
       "    .dataframe tbody tr th {\n",
       "        vertical-align: top;\n",
       "    }\n",
       "\n",
       "    .dataframe thead th {\n",
       "        text-align: right;\n",
       "    }\n",
       "</style>\n",
       "<table border=\"1\" class=\"dataframe\">\n",
       "  <thead>\n",
       "    <tr style=\"text-align: right;\">\n",
       "      <th></th>\n",
       "      <th>area</th>\n",
       "      <th>city</th>\n",
       "      <th>state</th>\n",
       "      <th>country</th>\n",
       "      <th>latitude</th>\n",
       "      <th>longitude</th>\n",
       "      <th>created_on</th>\n",
       "      <th>description</th>\n",
       "      <th>age</th>\n",
       "      <th>gender</th>\n",
       "      <th>incident_date</th>\n",
       "      <th>time_from</th>\n",
       "      <th>time_to</th>\n",
       "      <th>categories</th>\n",
       "      <th>severity</th>\n",
       "    </tr>\n",
       "  </thead>\n",
       "  <tbody>\n",
       "    <tr>\n",
       "      <th>0</th>\n",
       "      <td>Nehru Place</td>\n",
       "      <td>New Delhi</td>\n",
       "      <td>Delhi</td>\n",
       "      <td>India</td>\n",
       "      <td>28.551478</td>\n",
       "      <td>77.251543</td>\n",
       "      <td>2020-12-01 19:45:28</td>\n",
       "      <td>Sexual Invite : A man walked with me for 5 min...</td>\n",
       "      <td>0</td>\n",
       "      <td>Female</td>\n",
       "      <td>2012-12-25</td>\n",
       "      <td>01:50:00</td>\n",
       "      <td>00:00:00</td>\n",
       "      <td>Commenting/Sexual Invites</td>\n",
       "      <td>7</td>\n",
       "    </tr>\n",
       "    <tr>\n",
       "      <th>1</th>\n",
       "      <td>Block G</td>\n",
       "      <td>New Delhi</td>\n",
       "      <td>Delhi</td>\n",
       "      <td>India</td>\n",
       "      <td>28.568814</td>\n",
       "      <td>77.220565</td>\n",
       "      <td>2020-12-01 19:45:28</td>\n",
       "      <td>Sexual Invite : Late evening (around 7.30 pm) ...</td>\n",
       "      <td>0</td>\n",
       "      <td>Female</td>\n",
       "      <td>2012-12-26</td>\n",
       "      <td>01:56:00</td>\n",
       "      <td>00:00:00</td>\n",
       "      <td>Commenting/Sexual Invites</td>\n",
       "      <td>7</td>\n",
       "    </tr>\n",
       "    <tr>\n",
       "      <th>2</th>\n",
       "      <td>Ajmeri Gate</td>\n",
       "      <td>New Delhi</td>\n",
       "      <td>Delhi</td>\n",
       "      <td>India</td>\n",
       "      <td>28.641970</td>\n",
       "      <td>77.220600</td>\n",
       "      <td>2020-12-01 19:45:28</td>\n",
       "      <td>Pitampura, Bus stand : Comments were passed wh...</td>\n",
       "      <td>0</td>\n",
       "      <td>Female</td>\n",
       "      <td>2012-12-26</td>\n",
       "      <td>17:57:00</td>\n",
       "      <td>00:00:00</td>\n",
       "      <td>Commenting/Sexual Invites</td>\n",
       "      <td>7</td>\n",
       "    </tr>\n",
       "    <tr>\n",
       "      <th>3</th>\n",
       "      <td>Kalkaji Extension</td>\n",
       "      <td>New Delhi</td>\n",
       "      <td>Delhi</td>\n",
       "      <td>India</td>\n",
       "      <td>28.542735</td>\n",
       "      <td>77.259194</td>\n",
       "      <td>2020-12-01 19:45:28</td>\n",
       "      <td>Retard commenting : I just stepped out of offi...</td>\n",
       "      <td>0</td>\n",
       "      <td>Female</td>\n",
       "      <td>2012-12-27</td>\n",
       "      <td>01:49:00</td>\n",
       "      <td>00:00:00</td>\n",
       "      <td>Commenting/Sexual Invites</td>\n",
       "      <td>7</td>\n",
       "    </tr>\n",
       "    <tr>\n",
       "      <th>4</th>\n",
       "      <td>Ajmeri Gate</td>\n",
       "      <td>New Delhi</td>\n",
       "      <td>Delhi</td>\n",
       "      <td>India</td>\n",
       "      <td>28.641970</td>\n",
       "      <td>77.220600</td>\n",
       "      <td>2020-12-01 19:45:28</td>\n",
       "      <td>New Delhi Railway Station Indecent comments : ...</td>\n",
       "      <td>0</td>\n",
       "      <td>Female</td>\n",
       "      <td>2009-06-15</td>\n",
       "      <td>11:07:00</td>\n",
       "      <td>00:00:00</td>\n",
       "      <td>Commenting/Sexual Invites</td>\n",
       "      <td>7</td>\n",
       "    </tr>\n",
       "  </tbody>\n",
       "</table>\n",
       "</div>"
      ],
      "text/plain": [
       "                area       city  state country   latitude  longitude  \\\n",
       "0        Nehru Place  New Delhi  Delhi   India  28.551478  77.251543   \n",
       "1            Block G  New Delhi  Delhi   India  28.568814  77.220565   \n",
       "2        Ajmeri Gate  New Delhi  Delhi   India  28.641970  77.220600   \n",
       "3  Kalkaji Extension  New Delhi  Delhi   India  28.542735  77.259194   \n",
       "4        Ajmeri Gate  New Delhi  Delhi   India  28.641970  77.220600   \n",
       "\n",
       "            created_on                                        description  \\\n",
       "0  2020-12-01 19:45:28  Sexual Invite : A man walked with me for 5 min...   \n",
       "1  2020-12-01 19:45:28  Sexual Invite : Late evening (around 7.30 pm) ...   \n",
       "2  2020-12-01 19:45:28  Pitampura, Bus stand : Comments were passed wh...   \n",
       "3  2020-12-01 19:45:28  Retard commenting : I just stepped out of offi...   \n",
       "4  2020-12-01 19:45:28  New Delhi Railway Station Indecent comments : ...   \n",
       "\n",
       "   age  gender incident_date time_from   time_to                 categories  \\\n",
       "0    0  Female    2012-12-25  01:50:00  00:00:00  Commenting/Sexual Invites   \n",
       "1    0  Female    2012-12-26  01:56:00  00:00:00  Commenting/Sexual Invites   \n",
       "2    0  Female    2012-12-26  17:57:00  00:00:00  Commenting/Sexual Invites   \n",
       "3    0  Female    2012-12-27  01:49:00  00:00:00  Commenting/Sexual Invites   \n",
       "4    0  Female    2009-06-15  11:07:00  00:00:00  Commenting/Sexual Invites   \n",
       "\n",
       "   severity  \n",
       "0         7  \n",
       "1         7  \n",
       "2         7  \n",
       "3         7  \n",
       "4         7  "
      ]
     },
     "execution_count": 10,
     "metadata": {},
     "output_type": "execute_result"
    }
   ],
   "source": [
    "data.head()"
   ]
  },
  {
   "cell_type": "code",
   "execution_count": 12,
   "id": "c8b070c5",
   "metadata": {},
   "outputs": [
    {
     "data": {
      "text/plain": [
       "(13668, 15)"
      ]
     },
     "execution_count": 12,
     "metadata": {},
     "output_type": "execute_result"
    }
   ],
   "source": [
    "data.shape"
   ]
  },
  {
   "cell_type": "code",
   "execution_count": 13,
   "id": "30484af4",
   "metadata": {},
   "outputs": [],
   "source": [
    "data.to_csv('processed_incident_details.csv', index=False)"
   ]
  },
  {
   "cell_type": "code",
   "execution_count": null,
   "id": "b02ad348",
   "metadata": {},
   "outputs": [],
   "source": []
  }
 ],
 "metadata": {
  "kernelspec": {
   "display_name": "Python 3",
   "language": "python",
   "name": "python3"
  },
  "language_info": {
   "codemirror_mode": {
    "name": "ipython",
    "version": 3
   },
   "file_extension": ".py",
   "mimetype": "text/x-python",
   "name": "python",
   "nbconvert_exporter": "python",
   "pygments_lexer": "ipython3",
   "version": "3.12.8"
  }
 },
 "nbformat": 4,
 "nbformat_minor": 5
}
